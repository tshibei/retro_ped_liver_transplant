{
 "cells": [
  {
   "cell_type": "code",
   "execution_count": 15,
   "id": "64a78cd4-b1d7-4c58-98aa-6c3477bbe48e",
   "metadata": {},
   "outputs": [],
   "source": [
    "%load_ext autoreload\n",
    "%autoreload 2"
   ]
  },
  {
   "cell_type": "code",
   "execution_count": 16,
   "id": "13796815-fb02-477c-9037-e2b78cb92640",
   "metadata": {
    "lines_to_next_cell": 2
   },
   "outputs": [],
   "source": [
    "import pandas as pd\n",
    "import matplotlib.pyplot as plt\n",
    "import matplotlib.pylab as pylab\n",
    "import numpy as np\n",
    "from scipy import stats\n",
    "import seaborn as sns\n",
    "from functools import reduce\n",
    "pd.options.mode.chained_assignment = None \n",
    "from statistics import mean\n",
    "from Profile_Generation import *\n",
    "from plotting import *\n",
    "import warnings\n",
    "warnings.simplefilter('ignore', np.RankWarning)\n",
    "from scipy.optimize import curve_fit\n",
    "import matplotlib.patches as patches\n",
    "from scipy.optimize import curve_fit\n",
    "from openpyxl import load_workbook\n",
    "import math\n",
    "from scipy.optimize import OptimizeWarning\n",
    "warnings.simplefilter(\"ignore\", OptimizeWarning)\n",
    "import timeit"
   ]
  },
  {
   "cell_type": "code",
   "execution_count": 21,
   "id": "7a567b06-8a39-49e9-a3a5-08460e618ee3",
   "metadata": {
    "lines_to_end_of_cell_marker": 2
   },
   "outputs": [
    {
     "name": "stdout",
     "output_type": "stream",
     "text": [
      "Patient #117 has insufficient/<3 predictions (1 predictions) (for linear)!\n",
      "Patient #117 has insufficient/<3 predictions (0 predictions) (for quadratic)!\n",
      "Patient #121 has insufficient unique dose-response pairs for calibration (for quad)!\n",
      "Patient #126 has insufficient unique dose-response pairs for calibration (for quad)!\n",
      "Patient #130 has insufficient/<3 predictions (2 predictions) (for linear)!\n",
      "Patient #130 has insufficient/<3 predictions (1 predictions) (for quadratic)!\n",
      "Patient #133 has insufficient/<3 predictions (0 predictions) (for linear)!\n",
      "Patient #133 has insufficient unique dose-response pairs for calibration (for quad)!\n",
      "Patients to exclude for linear methods: ['117', '130', '133']\n",
      "Patients to exclude for quad methods: ['117', '121', '126', '130', '133']\n",
      "Patient #117 has insufficient/<3 predictions (1 predictions) (for linear)!\n",
      "Patient #117 has insufficient/<3 predictions (0 predictions) (for quadratic)!\n",
      "Patient #121 has insufficient unique dose-response pairs for calibration (for quad)!\n",
      "Patient #126 has insufficient unique dose-response pairs for calibration (for quad)!\n",
      "Patient #130 has insufficient/<3 predictions (2 predictions) (for linear)!\n",
      "Patient #130 has insufficient/<3 predictions (1 predictions) (for quadratic)!\n",
      "Patient #133 has insufficient/<3 predictions (0 predictions) (for linear)!\n",
      "Patient #133 has insufficient unique dose-response pairs for calibration (for quad)!\n",
      "Patients to exclude for linear methods: ['117', '130', '133']\n",
      "Patients to exclude for quad methods: ['117', '121', '126', '130', '133']\n",
      "Patient #117 has insufficient/<3 predictions (1 predictions) (for linear)!\n",
      "Patient #117 has insufficient/<3 predictions (0 predictions) (for quadratic)!\n",
      "Patient #121 has insufficient unique dose-response pairs for calibration (for quad)!\n",
      "Patient #126 has insufficient unique dose-response pairs for calibration (for quad)!\n",
      "Patient #130 has insufficient/<3 predictions (2 predictions) (for linear)!\n",
      "Patient #130 has insufficient/<3 predictions (1 predictions) (for quadratic)!\n",
      "Patient #133 has insufficient/<3 predictions (0 predictions) (for linear)!\n",
      "Patient #133 has insufficient unique dose-response pairs for calibration (for quad)!\n",
      "Patients to exclude for linear methods: ['117', '130', '133']\n",
      "Patients to exclude for quad methods: ['117', '121', '126', '130', '133']\n",
      "Wall time: 18min 23s\n"
     ]
    }
   ],
   "source": [
    "%%time\n",
    "# ~18mins\n",
    "\n",
    "# Execute CURATE without pop tau\n",
    "execute_CURATE()\n",
    "\n",
    "# Perform CV and LOOCV\n",
    "five_fold_cross_val_results, five_fold_cross_val_results_summary = find_pop_tau_with_CV()\n",
    "execute_CURATE_and_update_pop_tau_results('CV', five_fold_cross_val_results_summary, five_fold_cross_val_results)\n",
    "\n",
    "# Perform LOOCV\n",
    "five_fold_cross_val_results, five_fold_cross_val_results_summary = find_pop_tau_with_LOOCV()\n",
    "execute_CURATE_and_update_pop_tau_results('LOOCV', five_fold_cross_val_results_summary, five_fold_cross_val_results)"
   ]
  },
  {
   "cell_type": "code",
   "execution_count": null,
   "id": "06851844-cb87-46b3-bd27-3e2f1eeed8cf",
   "metadata": {},
   "outputs": [],
   "source": [
    "five_fold_cross_val_results_summary.loc[five_fold_cross_val_results_summary.index\\\n",
    "                [five_fold_cross_val_results_summary.method == 'Q_Cum_origin_int_tau'], 'pop_half_life']"
   ]
  },
  {
   "cell_type": "code",
   "execution_count": null,
   "id": "f8716efa-c2fc-439a-9ffa-cade11503c04",
   "metadata": {},
   "outputs": [],
   "source": [
    "new_df = five_fold_cross_val_results_summary.copy()\n",
    "a = float(new_df.loc[new_df.index[new_df.method == 'L_Cum_origin_dp_tau'], 'pop_half_life'])\n",
    "a"
   ]
  },
  {
   "cell_type": "code",
   "execution_count": null,
   "id": "360ce7d9-ad79-4823-bf5c-ff6fe0f44d1a",
   "metadata": {},
   "outputs": [],
   "source": [
    "pd.set_option('display.max_rows', None)\n",
    "dat.index[dat.abs_deviation == dat[dat.method == 'L_PPM_origin_int_tau'].abs_deviation.min()]"
   ]
  },
  {
   "cell_type": "code",
   "execution_count": null,
   "id": "1a30943c-9034-445f-878a-cd3f949116f0",
   "metadata": {},
   "outputs": [],
   "source": [
    "import pandas as pd\n",
    "dat = pd.read_excel('output.xlsx', sheet_name='clean')"
   ]
  },
  {
   "cell_type": "code",
   "execution_count": null,
   "id": "596d098f-c8a1-42d7-a14a-4d0a9069e671",
   "metadata": {},
   "outputs": [],
   "source": [
    "import seaborn as sns\n",
    "import matplotlib.pyplot as plt\n",
    "\n",
    "palette = sns.color_palette(\"viridis\")\n",
    "dat.dose = dat.dose.astype(float)\n",
    "g = sns.FacetGrid(dat, col='patient', col_wrap=5, hue='dose', palette=sns.color_palette(\"rocket\", dat.dose.nunique()), sharex=None)\n",
    "g.map_dataframe(sns.scatterplot, x='day', y='response')\n",
    "# g.map_dataframe(sns.lineplot, col='black', x='day', y='response')\n",
    "g.refline(y=8, color='black', lw=1, ls='--')\n",
    "g.refline(y=10, color='black', lw=1, ls='--')\n",
    "g.add_legend()"
   ]
  },
  {
   "cell_type": "code",
   "execution_count": null,
   "id": "c119087c-c5b3-44da-a4c8-8946270a9717",
   "metadata": {},
   "outputs": [],
   "source": [
    "dat.head()"
   ]
  },
  {
   "cell_type": "code",
   "execution_count": null,
   "id": "9ab7ff31-c05a-4551-84a0-607c4e7bdea5",
   "metadata": {},
   "outputs": [],
   "source": [
    "dat.dose.dtype"
   ]
  },
  {
   "cell_type": "code",
   "execution_count": null,
   "id": "3958566f-9f39-4c7c-8230-fa36ccb8eb99",
   "metadata": {},
   "outputs": [],
   "source": [
    "dat = result_df.copy()\n",
    "dat.head()"
   ]
  },
  {
   "cell_type": "code",
   "execution_count": null,
   "id": "a4a45b75-2a50-40af-bded-2c8f10903e89",
   "metadata": {
    "lines_to_next_cell": 2
   },
   "outputs": [],
   "source": [
    "# How are the predictions different, between different half-lives, for each method compared to without tau?\n",
    "# Plot prediction vs prediction day, for each patient, colored by tau with different half-lives vs non-tau\n",
    "\n",
    "dat = result_df.copy()\n",
    "dat = dat[['prediction', 'pred_day', 'half_life', 'method', 'patient', 'deviation']]\n",
    "patient_list = dat.patient.unique()\n",
    "method_list = dat.method.unique()\n",
    "dat = dat[dat.patient == patient_list[6]]\n",
    "dat.half_life = dat.half_life.fillna(0)\n",
    "# L_Cum_origin_dp_tau\n",
    "palette = sns.color_palette(\"rocket_r\", n_colors=len(dat.half_life.unique()))\n",
    "# a = np.arange(3.5, 41.5, 1)\n",
    "# dat.half_life.unique()\n",
    "sns.lineplot(data=dat[dat.method.str.contains(\"L_RW_origin_dp\")], \n",
    "             x=\"pred_day\", y=\"deviation\", hue=\"half_life\", \n",
    "             palette=palette, ci=None)\n",
    "plt.legend(bbox_to_anchor=(1.25,1), loc='upper right')\n",
    "# plt.plot(data=dat[dat.method == \"L_Cum_origin_dp_tau\"], \n",
    "#          x=\"pred_day\", y=\"prediction\", color=\"half_life\".map())"
   ]
  },
  {
   "cell_type": "code",
   "execution_count": null,
   "id": "b996fe88-eeda-4d36-85c3-8fc922fc6d82",
   "metadata": {},
   "outputs": [],
   "source": [
    "dat = result_df.copy()\n",
    "dat = dat[['deviation', 'method', 'patient', 'pred_day', 'response', 'prediction', 'half_life']]\n",
    "dat['half_life'] = dat['half_life'].fillna('')\n",
    "dat = dat.loc[(dat.method == 'Q_Cum_origin_dp_tau') | (dat.method == 'Q_Cum_origin_dp')]\n",
    "dat['new_method'] = \"\"\n",
    "for i in range(len(dat)):\n",
    "    dat['new_method'].iloc[i] = dat['method'].iloc[i] + '_' + str(dat['half_life'].iloc[i])\n",
    "    # print(dat['method'].iloc[i])\n",
    "plot = sns.lineplot(data=dat, x=\"patient\", y=\"deviation\", hue=\"new_method\", ci=None, legend=False)\n",
    "plot = sns.lineplot(data=dat.loc[dat.method=='Q_Cum_origin_dp_ '], x=\"patient\", y=\"deviation\", color='b', ci=None, legend=False)\n",
    "# dat.head()\n",
    "\n",
    "# sns.lineplot(data=dat.loc[dat.patient==84], x=\"pred_day\", y=\"deviation\", hue=\"method\")\n",
    "\n",
    "# dat"
   ]
  },
  {
   "cell_type": "code",
   "execution_count": null,
   "id": "b5f2120d-c413-46ef-8be9-eeed043c086c",
   "metadata": {},
   "outputs": [],
   "source": [
    "# Plotting\n",
    "# perc_days_within_target_tac(result_df)\n",
    "# perc_days_outside_target_tac(result_df)\n",
    "# median_perc_within_acc_dev(result_df)\n",
    "# can_benefit(result_df)\n",
    "# modified_TTR(result_df)\n",
    "# wrong_range(result_df)"
   ]
  },
  {
   "cell_type": "code",
   "execution_count": null,
   "id": "d73e4ecf-0dcb-4752-b2d7-7dd3d23736e9",
   "metadata": {},
   "outputs": [],
   "source": [
    "import pandas as pd\n",
    "import numpy as np\n",
    "from sklearn.preprocessing import PolynomialFeatures\n",
    "from sklearn.linear_model import LinearRegression\n",
    "import math\n",
    "\n",
    "d = {'dose': [0.5, 1, 1.5, 1.5, 3, 3], 'response': [2.4, 2.8, 3.2, 3.1, 7.9, 10]}\n",
    "df = pd.DataFrame(data=d)\n",
    "\n",
    "# Calculate weight\n",
    "j = 0\n",
    "decay_weight = []\n",
    "for i in range(len(df)):\n",
    "    decay_weight.append(math.exp(-(24*(i))/(12/np.log(2))))\n",
    "\n",
    "# Fit model\n",
    "poly_reg = PolynomialFeatures(degree=2)\n",
    "X = np.array(df.dose).reshape(-1, 1)\n",
    "y = np.array(df.response)\n",
    "X = poly_reg.fit_transform(X)\n",
    "result = LinearRegression(fit_intercept=False).fit(X, y, decay_weight)\n",
    "result.coef_\n",
    "# new = 3\n",
    "# prediction = result.predict(poly_reg.fit_transform([[new]]))[0]\n",
    "# prediction"
   ]
  },
  {
   "cell_type": "code",
   "execution_count": null,
   "id": "04c05864-125d-42c8-a46c-5bdf99af7b62",
   "metadata": {},
   "outputs": [],
   "source": [
    "np.array(3).reshape(-1, 1)"
   ]
  },
  {
   "cell_type": "code",
   "execution_count": null,
   "id": "632ef72a-2792-4af4-8594-6d7946b1312c",
   "metadata": {},
   "outputs": [],
   "source": [
    "a = pd.DataFrame(columns=['col1','col2'])\n",
    "a = a[0:0]\n",
    "a.loc[2, :] = [1, 2]\n",
    "\n",
    "b = pd.DataFrame(columns=['col1','col2'])\n",
    "b = b[0:0]\n",
    "b.loc[0, :] = [1, 2]\n",
    "b.loc[1, :] = [1, 2]\n",
    "\n",
    "pd.concat([a, b])"
   ]
  },
  {
   "cell_type": "code",
   "execution_count": 7,
   "id": "c79ae9b4-7742-4b60-90ff-5737d3a7f751",
   "metadata": {},
   "outputs": [
    {
     "name": "stdout",
     "output_type": "stream",
     "text": [
      "empty\n"
     ]
    }
   ],
   "source": [
    "hello = \"\"\n",
    "if hello:\n",
    "    print('not empty')\n",
    "else: print('empty')"
   ]
  },
  {
   "cell_type": "code",
   "execution_count": 11,
   "id": "0841be05-3fa2-472e-a82d-876db948fa04",
   "metadata": {},
   "outputs": [
    {
     "data": {
      "text/html": [
       "<div>\n",
       "<style scoped>\n",
       "    .dataframe tbody tr th:only-of-type {\n",
       "        vertical-align: middle;\n",
       "    }\n",
       "\n",
       "    .dataframe tbody tr th {\n",
       "        vertical-align: top;\n",
       "    }\n",
       "\n",
       "    .dataframe thead th {\n",
       "        text-align: right;\n",
       "    }\n",
       "</style>\n",
       "<table border=\"1\" class=\"dataframe\">\n",
       "  <thead>\n",
       "    <tr style=\"text-align: right;\">\n",
       "      <th></th>\n",
       "      <th>a</th>\n",
       "      <th>b</th>\n",
       "    </tr>\n",
       "  </thead>\n",
       "  <tbody>\n",
       "  </tbody>\n",
       "</table>\n",
       "</div>"
      ],
      "text/plain": [
       "Empty DataFrame\n",
       "Columns: [a, b]\n",
       "Index: []"
      ]
     },
     "execution_count": 11,
     "metadata": {},
     "output_type": "execute_result"
    }
   ],
   "source": [
    "cols = ['a','b']\n",
    "list_of_series = [pd.Series([1,2],index=cols), pd.Series([3,4],index=cols)]\n",
    "df = pd.DataFrame(list_of_series, columns=cols)\n",
    "df = pd.DataFrame(columns=cols)\n",
    "df"
   ]
  }
 ],
 "metadata": {
  "jupytext": {
   "formats": "ipynb,py:light"
  },
  "kernelspec": {
   "display_name": "Python 3 (ipykernel)",
   "language": "python",
   "name": "python3"
  },
  "language_info": {
   "codemirror_mode": {
    "name": "ipython",
    "version": 3
   },
   "file_extension": ".py",
   "mimetype": "text/x-python",
   "name": "python",
   "nbconvert_exporter": "python",
   "pygments_lexer": "ipython3",
   "version": "3.9.7"
  }
 },
 "nbformat": 4,
 "nbformat_minor": 5
}
