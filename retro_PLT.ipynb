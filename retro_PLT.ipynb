{
 "cells": [
  {
   "cell_type": "code",
   "execution_count": 1,
   "id": "64a78cd4-b1d7-4c58-98aa-6c3477bbe48e",
   "metadata": {},
   "outputs": [],
   "source": [
    "%load_ext autoreload\n",
    "%autoreload 2"
   ]
  },
  {
   "cell_type": "code",
   "execution_count": 2,
   "id": "13796815-fb02-477c-9037-e2b78cb92640",
   "metadata": {},
   "outputs": [],
   "source": [
    "import pandas as pd\n",
    "import matplotlib.pyplot as plt\n",
    "import matplotlib.pylab as pylab\n",
    "import numpy as np\n",
    "from scipy import stats\n",
    "import seaborn as sns\n",
    "from functools import reduce\n",
    "pd.options.mode.chained_assignment = None \n",
    "from statistics import mean\n",
    "from profile_generation import *\n",
    "from plotting import *\n",
    "import warnings\n",
    "warnings.simplefilter('ignore', np.RankWarning)\n",
    "from scipy.optimize import curve_fit\n",
    "import matplotlib.patches as patches\n",
    "from scipy.optimize import curve_fit\n",
    "from openpyxl import load_workbook"
   ]
  },
  {
   "cell_type": "code",
   "execution_count": 7,
   "id": "f11392a7-777b-4f60-890d-0fb2cddd30a6",
   "metadata": {},
   "outputs": [
    {
     "name": "stderr",
     "output_type": "stream",
     "text": [
      "C:\\Users\\tshibei\\Anaconda3\\lib\\site-packages\\scipy\\optimize\\minpack.py:833: OptimizeWarning: Covariance of the parameters could not be estimated\n",
      "  warnings.warn('Covariance of the parameters could not be estimated',\n"
     ]
    },
    {
     "name": "stdout",
     "output_type": "stream",
     "text": [
      "Patient #117 has insufficient/<3 predictions (1 predictions) (for linear)!\n",
      "Patient #117 has insufficient/<3 predictions (0 predictions) (for quadratic)!\n",
      "Patient #121 has insufficient unique dose-response pairs for calibration (for quad)!\n",
      "Patient #126 has insufficient unique dose-response pairs for calibration (for quad)!\n",
      "Patient #130 has insufficient/<3 predictions (2 predictions) (for linear)!\n",
      "Patient #130 has insufficient/<3 predictions (1 predictions) (for quadratic)!\n",
      "Patient #133 has insufficient/<3 predictions (0 predictions) (for linear)!\n",
      "Patient #133 has insufficient unique dose-response pairs for calibration (for quad)!\n",
      "Patients to exclude for linear methods: ['117', '130', '133']\n",
      "Patients to exclude for quad methods: ['117', '121', '126', '130', '133']\n"
     ]
    }
   ],
   "source": [
    "# Profile Generation\n",
    "input_file = 'Retrospective Liver Transplant Data.xlsx'\n",
    "rows_to_skip = 17\n",
    "\n",
    "# Get list of patients/sheet names\n",
    "list_of_patients = get_sheet_names(input_file)\n",
    "\n",
    "# Define lists\n",
    "list_of_patient_df = []\n",
    "list_of_cal_pred_df = []\n",
    "list_of_result_df = []\n",
    "patients_to_exclude_linear = []\n",
    "patients_to_exclude_quad = []\n",
    "\n",
    "for patient in list_of_patients:\n",
    "\n",
    "    # Create and clean patient dataframe        \n",
    "    df = pd.read_excel(input_file, sheet_name=patient, skiprows=rows_to_skip)\n",
    "    df = clean_data(df, patient)\n",
    "    df = keep_ideal_data(df, patient, list_of_patient_df)\n",
    "\n",
    "    # Select data for calibration and efficacy-driven dosing\n",
    "    cal_pred_linear, patients_to_exclude_linear = cal_pred_data(df, patient, patients_to_exclude_linear, 1)\n",
    "    cal_pred_quad, patients_to_exclude_quad = cal_pred_data(df, patient, patients_to_exclude_quad, 2)\n",
    "\n",
    "    # Keep patients with sufficient dose-response pairs and predictions for each method\n",
    "    cal_pred, list_of_cal_pred_df = keep_target_patients(patient, patients_to_exclude_linear, patients_to_exclude_quad, \n",
    "                                                     cal_pred_linear, cal_pred_quad, list_of_cal_pred_df)   \n",
    "\n",
    "    # Apply methods\n",
    "    list_of_result_df = apply_methods(cal_pred, patient, patients_to_exclude_linear, patients_to_exclude_quad,\n",
    "              cal_pred_linear, cal_pred_quad, list_of_result_df)\n",
    "\n",
    "# Print patients to exclude        \n",
    "patients_to_exclude_linear = sorted(set(patients_to_exclude_linear))\n",
    "patients_to_exclude_quad = sorted(set(patients_to_exclude_quad))\n",
    "print(f\"Patients to exclude for linear methods: {patients_to_exclude_linear}\")\n",
    "print(f\"Patients to exclude for quad methods: {patients_to_exclude_quad}\")\n",
    "\n",
    "# Join dataframes from individual patients\n",
    "df = pd.concat(list_of_patient_df)\n",
    "df.patient = df.patient.apply(int)\n",
    "df.reset_index(inplace=True, drop=True)\n",
    "# cal_pred = pd.concat(list_of_cal_pred_df)\n",
    "cal_pred.patient = cal_pred.patient.apply(int)\n",
    "result_df = pd.concat(list_of_result_df)\n",
    "result_df = format_result_df(cal_pred, result_df)\n",
    "\n",
    "with pd.ExcelWriter('output.xlsx') as writer:\n",
    "    df.to_excel(writer, sheet_name='clean', index=False)\n",
    "    cal_pred.to_excel(writer, sheet_name='calibration_and_efficacy_driven', index=False)\n",
    "    result_df.to_excel(writer, sheet_name='result', index=False)"
   ]
  },
  {
   "cell_type": "code",
   "execution_count": null,
   "id": "b5f2120d-c413-46ef-8be9-eeed043c086c",
   "metadata": {},
   "outputs": [],
   "source": [
    "# Plotting\n",
    "# perc_days_within_target_tac(result_df)\n",
    "# perc_days_outside_target_tac(result_df)\n",
    "# median_perc_within_acc_dev(result_df)\n",
    "# can_benefit(result_df)\n",
    "# modified_TTR(result_df)\n",
    "# wrong_range(result_df)"
   ]
  },
  {
   "cell_type": "code",
   "execution_count": 65,
   "id": "d73e4ecf-0dcb-4752-b2d7-7dd3d23736e9",
   "metadata": {},
   "outputs": [
    {
     "data": {
      "text/plain": [
       "7.97144745538665"
      ]
     },
     "execution_count": 65,
     "metadata": {},
     "output_type": "execute_result"
    }
   ],
   "source": [
    "import pandas as pd\n",
    "import numpy as np\n",
    "from sklearn.preprocessing import PolynomialFeatures\n",
    "from sklearn.linear_model import LinearRegression\n",
    "import math\n",
    "\n",
    "d = {'dose': [0.5, 1, 1.5, 1.5, 3, 3], 'response': [2.4, 2.8, 3.2, 3.1, 7.9, 10]}\n",
    "df = pd.DataFrame(data=d)\n",
    "\n",
    "# Calculate weight\n",
    "j = 0\n",
    "decay_weight = []\n",
    "for i in range(len(df)):\n",
    "    decay_weight.append(math.exp(-(24*(i))/(12/np.log(2))))\n",
    "\n",
    "# Fit mode\n",
    "poly_reg = PolynomialFeatures(degree=2)\n",
    "X = np.array(df.dose).reshape(-1, 1)\n",
    "y = np.array(df.response)\n",
    "X = poly_reg.fit_transform(X)\n",
    "result = LinearRegression(fit_intercept=False).fit(X, y, decay_weight)\n",
    "new = np.array(3).reshape(-1, 1)\n",
    "prediction = result.predict(poly_reg.fit_transform(new))[0]\n",
    "prediction\n",
    "\n",
    "               \n"
   ]
  },
  {
   "cell_type": "code",
   "execution_count": 26,
   "id": "4b7454a1-6d33-455c-ace9-e1217c825954",
   "metadata": {
    "lines_to_next_cell": 2
   },
   "outputs": [
    {
     "data": {
      "text/plain": [
       "(5,)"
      ]
     },
     "execution_count": 26,
     "metadata": {},
     "output_type": "execute_result"
    }
   ],
   "source": [
    "z = np.ones(5)\n",
    "z.shape"
   ]
  }
 ],
 "metadata": {
  "jupytext": {
   "formats": "ipynb,py:light"
  },
  "kernelspec": {
   "display_name": "Python 3 (ipykernel)",
   "language": "python",
   "name": "python3"
  },
  "language_info": {
   "codemirror_mode": {
    "name": "ipython",
    "version": 3
   },
   "file_extension": ".py",
   "mimetype": "text/x-python",
   "name": "python",
   "nbconvert_exporter": "python",
   "pygments_lexer": "ipython3",
   "version": "3.9.7"
  }
 },
 "nbformat": 4,
 "nbformat_minor": 5
}
