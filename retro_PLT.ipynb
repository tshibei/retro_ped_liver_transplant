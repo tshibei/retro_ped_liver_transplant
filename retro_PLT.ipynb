{
 "cells": [
  {
   "cell_type": "code",
   "execution_count": 1,
   "id": "64a78cd4-b1d7-4c58-98aa-6c3477bbe48e",
   "metadata": {},
   "outputs": [],
   "source": [
    "%load_ext autoreload\n",
    "%autoreload 2"
   ]
  },
  {
   "cell_type": "code",
   "execution_count": 2,
   "id": "13796815-fb02-477c-9037-e2b78cb92640",
   "metadata": {},
   "outputs": [],
   "source": [
    "import pandas as pd\n",
    "import matplotlib.pyplot as plt\n",
    "import matplotlib.pylab as pylab\n",
    "import numpy as np\n",
    "from scipy import stats\n",
    "import seaborn as sns\n",
    "from functools import reduce\n",
    "pd.options.mode.chained_assignment = None \n",
    "from statistics import mean\n",
    "from profile_generation import *\n",
    "import warnings\n",
    "warnings.simplefilter('ignore', np.RankWarning)\n",
    "from scipy.optimize import curve_fit\n",
    "import matplotlib.patches as patches\n",
    "from scipy.optimize import curve_fit\n",
    "from openpyxl import load_workbook\n",
    "# pd.set_option('display.max_rows', None)"
   ]
  },
  {
   "cell_type": "code",
   "execution_count": 3,
   "id": "00221316-9a49-4bdc-b6f6-62633fe6a434",
   "metadata": {},
   "outputs": [
    {
     "name": "stdout",
     "output_type": "stream",
     "text": [
      "Patient #117 has insufficient/<3 predictions (1 predictions) (for linear)!\n",
      "Patient #117 has insufficient/<3 predictions (0 predictions) (for quadratic)!\n",
      "Patient #121 has insufficient unique dose-response pairs for calibration (for quad)!\n",
      "Patient #126 has insufficient unique dose-response pairs for calibration (for quad)!\n",
      "Patient #130 has insufficient/<3 predictions (2 predictions) (for linear)!\n",
      "Patient #130 has insufficient/<3 predictions (1 predictions) (for quadratic)!\n",
      "Patient #133 has insufficient/<3 predictions (0 predictions) (for linear)!\n",
      "Patient #133 has insufficient unique dose-response pairs for calibration (for quad)!\n",
      "Patients to exclude for linear methods: ['117', '130', '133']\n",
      "Patients to exclude for quad methods: ['117', '121', '126', '130', '133']\n"
     ]
    }
   ],
   "source": [
    "input_file = 'Retrospective Liver Transplant Data.xlsx'\n",
    "rows_to_skip = 17\n",
    "\n",
    "# Get list of patients/sheet names\n",
    "list_of_patients = get_sheet_names(input_file)\n",
    "\n",
    "# Define lists\n",
    "list_of_patient_df = []\n",
    "list_of_cal_pred_df = []\n",
    "patients_to_exclude_linear = []\n",
    "patients_to_exclude_quad = []\n",
    "\n",
    "for patient in list_of_patients:\n",
    "        \n",
    "    df = pd.read_excel(input_file, sheet_name=patient, skiprows=rows_to_skip)\n",
    "    \n",
    "    df = clean_data(df, patient)\n",
    "    df = keep_ideal_data(df, patient, list_of_patient_df)\n",
    "        \n",
    "    # Choose and keep data for calibration and efficacy-driven dosing\n",
    "    cal_pred_linear, patients_to_exclude_linear = cal_pred_data(df, patient, patients_to_exclude_linear, 1)\n",
    "    cal_pred_quad, patients_to_exclude_quad = cal_pred_data(df, patient, patients_to_exclude_quad, 2)\n",
    "    \n",
    "    # Keep patient data with sufficient dose-response pairs and predictions\n",
    "    cal_pred, list_of_cal_pred_df = keep_target_patients(patient, patients_to_exclude_linear, patients_to_exclude_quad, \n",
    "                                                     cal_pred_linear, cal_pred_quad, list_of_cal_pred_df)\n",
    "    \n",
    "\n",
    "# Print patients to exclude        \n",
    "patients_to_exclude_linear = sorted(set(patients_to_exclude_linear))\n",
    "patients_to_exclude_quad = sorted(set(patients_to_exclude_quad))\n",
    "print(f\"Patients to exclude for linear methods: {patients_to_exclude_linear}\")\n",
    "print(f\"Patients to exclude for quad methods: {patients_to_exclude_quad}\")\n",
    "\n",
    "# Join dataframes from individual patients\n",
    "df = pd.concat(list_of_patient_df)\n",
    "df.reset_index(inplace=True, drop=True)\n",
    "cal_pred = pd.concat(list_of_cal_pred_df)\n",
    "\n",
    "## for 131, remove first row in keep_ideal_data function"
   ]
  }
 ],
 "metadata": {
  "jupytext": {
   "formats": "ipynb,py:light"
  },
  "kernelspec": {
   "display_name": "Python 3 (ipykernel)",
   "language": "python",
   "name": "python3"
  },
  "language_info": {
   "codemirror_mode": {
    "name": "ipython",
    "version": 3
   },
   "file_extension": ".py",
   "mimetype": "text/x-python",
   "name": "python",
   "nbconvert_exporter": "python",
   "pygments_lexer": "ipython3",
   "version": "3.9.7"
  }
 },
 "nbformat": 4,
 "nbformat_minor": 5
}
