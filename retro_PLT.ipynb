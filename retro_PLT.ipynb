{
 "cells": [
  {
   "cell_type": "code",
   "execution_count": 1,
   "id": "64a78cd4-b1d7-4c58-98aa-6c3477bbe48e",
   "metadata": {},
   "outputs": [],
   "source": [
    "%load_ext autoreload\n",
    "%autoreload 2\n",
    "import pandas as pd\n",
    "import matplotlib.pyplot as plt\n",
    "import matplotlib.pylab as pylab\n",
    "import numpy as np\n",
    "from scipy import stats\n",
    "import seaborn as sns\n",
    "from functools import reduce\n",
    "pd.options.mode.chained_assignment = None \n",
    "from statistics import mean\n",
    "from Profile_Generation import *\n",
    "from plotting import *\n",
    "import warnings\n",
    "warnings.simplefilter('ignore', np.RankWarning)\n",
    "from scipy.optimize import curve_fit\n",
    "import matplotlib.patches as patches\n",
    "from scipy.optimize import curve_fit\n",
    "from openpyxl import load_workbook\n",
    "import math\n",
    "from scipy.optimize import OptimizeWarning\n",
    "warnings.simplefilter(\"ignore\", OptimizeWarning)\n",
    "import timeit\n",
    "from sklearn.metrics import mean_squared_error\n",
    "from matplotlib.pyplot import cm\n",
    "from matplotlib.patches import Patch\n",
    "from scipy import stats\n",
    "from mpl_toolkits.axes_grid1.inset_locator import inset_axes\n",
    "from mpl_toolkits.axes_grid1 import make_axes_locatable\n",
    "from scipy.stats import levene\n",
    "import sys"
   ]
  },
  {
   "cell_type": "code",
   "execution_count": 3,
   "id": "7d0c647a-c71d-4af0-a6f1-77a8933d7c0d",
   "metadata": {},
   "outputs": [],
   "source": [
    "clinically_relevant_performance_metrics()"
   ]
  },
  {
   "cell_type": "code",
   "execution_count": null,
   "id": "7a567b06-8a39-49e9-a3a5-08460e618ee3",
   "metadata": {
    "lines_to_next_cell": 2
   },
   "outputs": [],
   "source": [
    "%%time\n",
    "# ~5mins\n",
    "\n",
    "# Execute CURATE without pop tau\n",
    "execute_CURATE(pop_tau_string='')"
   ]
  },
  {
   "cell_type": "code",
   "execution_count": null,
   "id": "564ed4fa-4011-43e5-a57f-b006098943b4",
   "metadata": {},
   "outputs": [],
   "source": [
    "%%time\n",
    "# Perform CV\n",
    "five_fold_cross_val_results, five_fold_cross_val_results_summary = find_pop_tau_with_CV()\n",
    "execute_CURATE_and_update_pop_tau_results('CV', five_fold_cross_val_results_summary, five_fold_cross_val_results)\n",
    "\n",
    "# Perform LOOCV\n",
    "five_fold_cross_val_results, five_fold_cross_val_results_summary = find_pop_tau_with_LOOCV()\n",
    "execute_CURATE_and_update_pop_tau_results('LOOCV', five_fold_cross_val_results_summary, five_fold_cross_val_results)"
   ]
  },
  {
   "cell_type": "code",
   "execution_count": null,
   "id": "93789bfd-d2e7-4218-ab10-1144f330dd86",
   "metadata": {},
   "outputs": [],
   "source": [
    "data = response_vs_day(plot=False)\n",
    "data.dose.describe()"
   ]
  },
  {
   "cell_type": "code",
   "execution_count": null,
   "id": "47ed4442-8e0d-4f9d-b3b8-73f518241714",
   "metadata": {},
   "outputs": [],
   "source": [
    "# Compare between dropping NaN vs no dropping\n",
    "data = response_vs_day(plot=False)\n",
    "\n",
    "# Drop rows where response is NaN\n",
    "data = data[data.response.notna()].reset_index(drop=True)\n",
    "\n",
    "# Add therapeutic range column\n",
    "for i in range(len(data)):\n",
    "    if (data.response[i] >= therapeutic_range_lower_limit) & (data.response[i] <= therapeutic_range_upper_limit):\n",
    "        data.loc[i, 'therapeutic_range'] = True\n",
    "    else:\n",
    "        data.loc[i, 'therapeutic_range'] = False\n",
    "\n",
    "perc_therapeutic_range = data.groupby('patient')['therapeutic_range'].apply(lambda x: x.sum()/x.count()*100)\n",
    "perc_therapeutic_range = perc_therapeutic_range.to_frame().reset_index()\n",
    "\n",
    "# Result and distribution\n",
    "result_and_distribution(perc_therapeutic_range.therapeutic_range, 'drop NaN')\n",
    "\n"
   ]
  },
  {
   "cell_type": "code",
   "execution_count": null,
   "id": "0a50b562-b7b4-4c17-a5f3-db5ff139be44",
   "metadata": {},
   "outputs": [],
   "source": [
    "# Compare between dropping NaN vs no dropping\n",
    "data = response_vs_day(plot=False)\n",
    "\n",
    "# Drop rows where response is NaN\n",
    "data = data[data.response.notna()].reset_index(drop=True)\n",
    "\n",
    "# Add therapeutic range column\n",
    "for i in range(len(data)):\n",
    "    if (data.response[i] >= therapeutic_range_lower_limit) & (data.response[i] <= therapeutic_range_upper_limit):\n",
    "        data.loc[i, 'therapeutic_range'] = True\n",
    "    else:\n",
    "        data.loc[i, 'therapeutic_range'] = False\n",
    "\n",
    "perc_therapeutic_range = data.groupby('patient')['therapeutic_range'].apply(lambda x: x.sum()/x.count()*100)\n",
    "perc_therapeutic_range = perc_therapeutic_range.to_frame().reset_index()\n",
    "\n",
    "# Result and distribution\n",
    "result_and_distribution(perc_therapeutic_range.therapeutic_range, 'keep NaN')"
   ]
  }
 ],
 "metadata": {
  "jupytext": {
   "formats": "ipynb,py:light"
  },
  "kernelspec": {
   "display_name": "Python 3 (ipykernel)",
   "language": "python",
   "name": "python3"
  },
  "language_info": {
   "codemirror_mode": {
    "name": "ipython",
    "version": 3
   },
   "file_extension": ".py",
   "mimetype": "text/x-python",
   "name": "python",
   "nbconvert_exporter": "python",
   "pygments_lexer": "ipython3",
   "version": "3.9.7"
  }
 },
 "nbformat": 4,
 "nbformat_minor": 5
}
