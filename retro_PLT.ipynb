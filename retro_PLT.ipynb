{
 "cells": [
  {
   "cell_type": "code",
   "execution_count": 10,
   "id": "64a78cd4-b1d7-4c58-98aa-6c3477bbe48e",
   "metadata": {},
   "outputs": [
    {
     "name": "stdout",
     "output_type": "stream",
     "text": [
      "The autoreload extension is already loaded. To reload it, use:\n",
      "  %reload_ext autoreload\n"
     ]
    }
   ],
   "source": [
    "%load_ext autoreload\n",
    "%autoreload 2\n",
    "import pandas as pd\n",
    "import matplotlib.pyplot as plt\n",
    "import matplotlib.pylab as pylab\n",
    "import numpy as np\n",
    "from scipy import stats\n",
    "import seaborn as sns\n",
    "from functools import reduce\n",
    "pd.options.mode.chained_assignment = None \n",
    "from statistics import mean\n",
    "from Profile_Generation import *\n",
    "from plotting import *\n",
    "import warnings\n",
    "warnings.simplefilter('ignore', np.RankWarning)\n",
    "from scipy.optimize import curve_fit\n",
    "import matplotlib.patches as patches\n",
    "from scipy.optimize import curve_fit\n",
    "from openpyxl import load_workbook\n",
    "import math\n",
    "from scipy.optimize import OptimizeWarning\n",
    "warnings.simplefilter(\"ignore\", OptimizeWarning)\n",
    "import timeit\n",
    "from sklearn.metrics import mean_squared_error\n",
    "from matplotlib.pyplot import cm\n",
    "from matplotlib.patches import Patch\n",
    "from scipy import stats\n",
    "from mpl_toolkits.axes_grid1.inset_locator import inset_axes\n",
    "from mpl_toolkits.axes_grid1 import make_axes_locatable\n",
    "from scipy.stats import levene\n",
    "import sys"
   ]
  },
  {
   "cell_type": "code",
   "execution_count": 11,
   "id": "43ef6ac7-021a-4584-b02d-c1c8140b4160",
   "metadata": {},
   "outputs": [],
   "source": [
    "whole_day_original = pd.read_excel('CURATE_results.xlsx', sheet_name='result')\n",
    "evening_original = pd.read_excel('CURATE_results_evening_dose.xlsx', sheet_name='result')"
   ]
  },
  {
   "cell_type": "code",
   "execution_count": 43,
   "id": "f4b0f8a5-3ad8-48c2-bf65-fba943746f00",
   "metadata": {},
   "outputs": [
    {
     "name": "stdout",
     "output_type": "stream",
     "text": [
      "deviation p-value: 0.75\n",
      "deviation mean, whole_day = 0.21\n",
      "deviation mean, evening = 0.14\n",
      "\n",
      "abs deviation p-value: 0.86\n",
      "abs deviation mean, whole_day = 2.16\n",
      "abs deviation mean, evening = 2.14\n"
     ]
    }
   ],
   "source": [
    "whole_day = whole_day_original.copy()\n",
    "evening = evening_original.copy()\n",
    "\n",
    "# Check if equal means in deviation: result, p = 0.75, equal\n",
    "whole_day_deviation = whole_day[whole_day.method==\"L_RW_wo_origin\"].deviation.reset_index(name='deviation')[['deviation']]\n",
    "evening_deviation = evening[evening.method==\"L_RW_wo_origin\"].deviation.reset_index(name='deviation')[['deviation']]\n",
    "\n",
    "print(f'deviation p-value: {stats.ttest_rel(whole_day_deviation.deviation, evening_deviation.deviation).pvalue:.2f}')\n",
    "print(f\"deviation mean, whole_day = {whole_day_deviation.describe().loc['mean'][0]:.2f}\")\n",
    "print(f\"deviation mean, evening = {evening_deviation.describe().loc['mean'][0]:.2f}\\n\")\n",
    "\n",
    "# Check if equal means in abs_deviation: result p = 0.86, equal\n",
    "whole_day_abs_deviation = whole_day[whole_day.method==\"L_RW_wo_origin\"].abs_deviation.reset_index(name='abs_deviation')[['abs_deviation']]\n",
    "evening_abs_deviation = evening[evening.method==\"L_RW_wo_origin\"].abs_deviation.reset_index(name='abs_deviation')[['abs_deviation']]\n",
    "\n",
    "print(f'abs deviation p-value: {stats.ttest_rel(whole_day_abs_deviation.abs_deviation, evening_abs_deviation.abs_deviation).pvalue:.2f}')\n",
    "print(f\"abs deviation mean, whole_day = {whole_day_abs_deviation.describe().loc['mean'][0]:.2f}\")\n",
    "print(f\"abs deviation mean, evening = {evening_abs_deviation.describe().loc['mean'][0]:.2f}\")\n",
    "# print(f'whole_day:\\n{whole_day[whole_day.method==\"L_RW_wo_origin\"].deviation.describe()}')\n",
    "# print(f'evening:\\n{evening[evening.method==\"L_RW_wo_origin\"].deviation.describe()}')"
   ]
  },
  {
   "cell_type": "code",
   "execution_count": null,
   "id": "9fe6b611-7684-4b48-95e0-e679024e9252",
   "metadata": {},
   "outputs": [],
   "source": []
  },
  {
   "cell_type": "code",
   "execution_count": 6,
   "id": "7a567b06-8a39-49e9-a3a5-08460e618ee3",
   "metadata": {},
   "outputs": [
    {
     "name": "stdout",
     "output_type": "stream",
     "text": [
      "Patient #117 has insufficient/<3 predictions (1 predictions) (for linear)!\n",
      "Patient #117 has insufficient/<3 predictions (0 predictions) (for quadratic)!\n",
      "Patient #121 has insufficient unique dose-response pairs for calibration (for quad)!\n",
      "Patient #126 has insufficient unique dose-response pairs for calibration (for quad)!\n",
      "Patient #130 has insufficient/<3 predictions (2 predictions) (for linear)!\n",
      "Patient #130 has insufficient/<3 predictions (1 predictions) (for quadratic)!\n",
      "Patient #133 has insufficient/<3 predictions (0 predictions) (for linear)!\n",
      "Patient #133 has insufficient unique dose-response pairs for calibration (for quad)!\n",
      "Patients to exclude for linear methods: ['117', '130', '133']\n",
      "Patients to exclude for quad methods: ['117', '121', '126', '130', '133']\n",
      "Wall time: 10min 6s\n"
     ]
    }
   ],
   "source": [
    "%%time\n",
    "# ~5mins\n",
    "\n",
    "execute_CURATE()"
   ]
  },
  {
   "cell_type": "code",
   "execution_count": null,
   "id": "564ed4fa-4011-43e5-a57f-b006098943b4",
   "metadata": {},
   "outputs": [],
   "source": [
    "%%time\n",
    "# Perform CV\n",
    "five_fold_cross_val_results, five_fold_cross_val_results_summary = find_pop_tau_with_CV()\n",
    "execute_CURATE_and_update_pop_tau_results('CV', five_fold_cross_val_results_summary, five_fold_cross_val_results)\n",
    "\n",
    "# Perform LOOCV\n",
    "five_fold_cross_val_results, five_fold_cross_val_results_summary = find_pop_tau_with_LOOCV()\n",
    "execute_CURATE_and_update_pop_tau_results('LOOCV', five_fold_cross_val_results_summary, five_fold_cross_val_results)"
   ]
  }
 ],
 "metadata": {
  "jupytext": {
   "formats": "ipynb,py:light"
  },
  "kernelspec": {
   "display_name": "Python 3 (ipykernel)",
   "language": "python",
   "name": "python3"
  },
  "language_info": {
   "codemirror_mode": {
    "name": "ipython",
    "version": 3
   },
   "file_extension": ".py",
   "mimetype": "text/x-python",
   "name": "python",
   "nbconvert_exporter": "python",
   "pygments_lexer": "ipython3",
   "version": "3.9.7"
  }
 },
 "nbformat": 4,
 "nbformat_minor": 5
}
