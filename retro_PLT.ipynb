{
 "cells": [
  {
   "cell_type": "code",
   "execution_count": 3,
   "id": "64a78cd4-b1d7-4c58-98aa-6c3477bbe48e",
   "metadata": {},
   "outputs": [],
   "source": [
    "%load_ext autoreload\n",
    "%autoreload 2\n",
    "import pandas as pd\n",
    "import matplotlib.pyplot as plt\n",
    "import matplotlib.pylab as pylab\n",
    "import numpy as np\n",
    "from scipy import stats\n",
    "import seaborn as sns\n",
    "from functools import reduce\n",
    "pd.options.mode.chained_assignment = None \n",
    "from statistics import mean\n",
    "from Profile_Generation import *\n",
    "from plotting import *\n",
    "from analysis import *\n",
    "import warnings\n",
    "warnings.simplefilter('ignore', np.RankWarning)\n",
    "from scipy.optimize import curve_fit\n",
    "import matplotlib.patches as patches\n",
    "from scipy.optimize import curve_fit\n",
    "from openpyxl import load_workbook\n",
    "import math\n",
    "from scipy.optimize import OptimizeWarning\n",
    "warnings.simplefilter(\"ignore\", OptimizeWarning)\n",
    "import timeit\n",
    "from sklearn.metrics import mean_squared_error"
   ]
  },
  {
   "cell_type": "code",
   "execution_count": null,
   "id": "7a567b06-8a39-49e9-a3a5-08460e618ee3",
   "metadata": {
    "lines_to_next_cell": 2
   },
   "outputs": [],
   "source": [
    "%%time\n",
    "# ~18mins\n",
    "\n",
    "# Execute CURATE without pop tau\n",
    "execute_CURATE()"
   ]
  },
  {
   "cell_type": "code",
   "execution_count": null,
   "id": "564ed4fa-4011-43e5-a57f-b006098943b4",
   "metadata": {
    "lines_to_next_cell": 0
   },
   "outputs": [],
   "source": [
    "%%time\n",
    "# Perform CV\n",
    "five_fold_cross_val_results, five_fold_cross_val_results_summary = find_pop_tau_with_CV()\n",
    "execute_CURATE_and_update_pop_tau_results('CV', five_fold_cross_val_results_summary, five_fold_cross_val_results)\n",
    "\n",
    "# Perform LOOCV\n",
    "five_fold_cross_val_results, five_fold_cross_val_results_summary = find_pop_tau_with_LOOCV()\n",
    "execute_CURATE_and_update_pop_tau_results('LOOCV', five_fold_cross_val_results_summary, five_fold_cross_val_results)"
   ]
  },
  {
   "cell_type": "code",
   "execution_count": null,
   "id": "00fe629d-7760-4ef6-a450-2e56ce41e731",
   "metadata": {},
   "outputs": [],
   "source": []
  },
  {
   "cell_type": "code",
   "execution_count": null,
   "id": "f16527b1-6932-4294-9c78-ce413bb4634d",
   "metadata": {},
   "outputs": [],
   "source": [
    "dat = df.copy()\n",
    "dat"
   ]
  },
  {
   "cell_type": "code",
   "execution_count": null,
   "id": "0852a55e-0e1b-4e5d-b10f-8dc7180c602e",
   "metadata": {},
   "outputs": [],
   "source": [
    "df = CURATE_could_be_useful()"
   ]
  },
  {
   "cell_type": "code",
   "execution_count": null,
   "id": "3c1a60d3-2bd0-498b-ae0f-eb605f133594",
   "metadata": {},
   "outputs": [],
   "source": [
    "dat = df.copy()\n",
    "\n",
    "# Subset chosen results\n",
    "dat = dat[(dat.wrong_range==False) & (dat.acceptable_deviation==True)]\n",
    "\n",
    "# Subset columns\n",
    "dat = dat[['method']]"
   ]
  },
  {
   "cell_type": "code",
   "execution_count": null,
   "id": "ccc38e73-90b9-4a9b-afce-a235599b0835",
   "metadata": {},
   "outputs": [],
   "source": [
    "dat = CURATE_could_be_useful()\n",
    "\n",
    "method_string = ['PPM', 'RW']\n",
    "method_dat = []\n",
    "\n",
    "for j in range(len(method_string)):\n",
    "\n",
    "    # Subset selected PPM/RW method\n",
    "    dat = dat[dat['method']==('L_' + method_string[j] + '_wo_origin')]\n",
    "\n",
    "    # Create column for adapted within range to indicate if data point\n",
    "    # could have been within range if augmented by CURATE\n",
    "    dat['adapted_within_range'] = dat.within_range\n",
    "    dat = dat.reset_index()\n",
    "\n",
    "    for i in range(len(dat)):\n",
    "        if (dat.CURATE_could_be_useful[i]==True):\n",
    "            dat.loc[i, 'adapted_within_range'] = 'Potentially True with CURATE_' + method_string[j]\n",
    "        elif (dat.within_range[i]==True and (dat.wrong_range[i]==True or dat.acceptable_deviation[i]==False)):\n",
    "            dat.loc[i, 'adapted_within_range'] = 'Potentially False with CURATE_' + method_string[j]\n",
    "        else:\n",
    "            dat.loc[i, 'adapted_within_range'] = 'CURATE_no_impact'\n",
    "\n",
    "    # Subset columns\n",
    "    dat = dat[['pred_day', 'patient', 'adapted_within_range']]\n",
    "\n",
    "    # Rename columns\n",
    "    dat.columns = ['day', 'patient', 'adapted_within_range']\n",
    "\n",
    "    # Only keep those that are affected by SOC\n",
    "    dat = dat[dat.adapted_within_range != 'CURATE_no_impact']\n",
    "    dat = dat[['day', 'patient', 'adapted_within_range']]\n",
    "\n",
    "    # Import data with all data including non-ideal data\n",
    "    dat_all_data = indiv_profiles_all_data(plot=False)\n",
    "\n",
    "    # Merge both dataframes\n",
    "    combined_dat = dat_all_data.merge(dat, how='left', on=['patient', 'day'])\n",
    "    combined_dat.loc[combined_dat['adapted_within_range'].isnull(),'adapted_within_range'] = \\\n",
    "    combined_dat['within_range']\n",
    "    combined_dat['adapted_within_range'] = combined_dat['adapted_within_range'].astype(str)\n",
    "\n",
    "    # Rename adapted_within_range\n",
    "    for i in range(len(combined_dat)):\n",
    "        if combined_dat.adapted_within_range[i] == 'Potentially True with CURATE_' + method_string[j]:\n",
    "            combined_dat.loc[i, 'adapted_within_range'] = 'True (' + method_string[j] + '_assisted)'\n",
    "        elif combined_dat.adapted_within_range[i] == 'Potentially False with CURATE_' + method_string[j]:\n",
    "            combined_dat.loc[i, 'adapted_within_range'] = 'False (' + method_string[j] + '_assisted)'\n",
    "\n",
    "    # Plot\n",
    "    sns.set(font_scale=1.2, rc={'figure.figsize':(16,10)})\n",
    "    sns.set_style('white')\n",
    "    hue_order = ['True', 'False', 'True (' + method_string[j] + '_assisted)', 'False (' + method_string[j] + '_assisted)']\n",
    "    palette = [sns.color_palette()[1], sns.color_palette()[0], sns.color_palette()[2],\\\n",
    "              sns.color_palette()[3]]\n",
    "\n",
    "    g = sns.relplot(data=combined_dat, x='day', y='response', hue='adapted_within_range',\\\n",
    "                    hue_order=hue_order, col='patient', palette=palette,\\\n",
    "                    col_wrap=4, style='dose_range', height=1.5, aspect=1.5, s=60)\n",
    "\n",
    "    g.map(plt.axhline, y=10, ls='--', c='black')\n",
    "    g.map(plt.axhline, y=8, ls='--', c='black')\n",
    "\n",
    "    plt.savefig('indiv_pt_profile_adapted_' + method_string[j] + '.png', dpi=500, facecolor='w', bbox_inches='tight')\n",
    "\n",
    "    method_dat.append(combined_dat)"
   ]
  },
  {
   "cell_type": "code",
   "execution_count": null,
   "id": "d2fe80bd-322e-4d28-91da-0e1d95590185",
   "metadata": {},
   "outputs": [],
   "source": [
    "dat = read_file_and_remove_unprocessed_pop_tau()"
   ]
  },
  {
   "cell_type": "code",
   "execution_count": null,
   "id": "8a7a3fb3-3573-4976-9503-beef1424e54a",
   "metadata": {},
   "outputs": [],
   "source": [
    "df = method_dat.copy()\n",
    "final_df, CURATE_may_help = CURATE_assisted_result_distribution(df, 'PPM')\n",
    "# final_df\n",
    "\n",
    "CURATE_may_help"
   ]
  },
  {
   "cell_type": "code",
   "execution_count": null,
   "id": "9739b6d1-0af5-4fc0-a60d-bb040dc9d5cd",
   "metadata": {},
   "outputs": [],
   "source": [
    "dat = df.copy()\n",
    "dat"
   ]
  },
  {
   "cell_type": "code",
   "execution_count": null,
   "id": "93b0c732-26c2-4d48-bb06-81aad7d7a482",
   "metadata": {},
   "outputs": [],
   "source": [
    "df = CURATE_could_be_useful()"
   ]
  },
  {
   "cell_type": "code",
   "execution_count": null,
   "id": "036d0e36-c175-45f0-968f-a7d64878fcfd",
   "metadata": {},
   "outputs": [],
   "source": [
    "dat, string = CURATE_simulated_results_PPM_RW()"
   ]
  },
  {
   "cell_type": "code",
   "execution_count": null,
   "id": "dd7edf94-8d4f-4252-87c6-af192932bd1b",
   "metadata": {
    "lines_to_next_cell": 2
   },
   "outputs": [],
   "source": [
    "method_dat = dat.copy()\n",
    "method_string = string.copy()\n",
    "final_df_list = CURATE_assisted_result_distribution(method_dat, method_string)"
   ]
  }
 ],
 "metadata": {
  "jupytext": {
   "formats": "ipynb,py:light"
  },
  "kernelspec": {
   "display_name": "Python 3 (ipykernel)",
   "language": "python",
   "name": "python3"
  },
  "language_info": {
   "codemirror_mode": {
    "name": "ipython",
    "version": 3
   },
   "file_extension": ".py",
   "mimetype": "text/x-python",
   "name": "python",
   "nbconvert_exporter": "python",
   "pygments_lexer": "ipython3",
   "version": "3.9.7"
  }
 },
 "nbformat": 4,
 "nbformat_minor": 5
}
