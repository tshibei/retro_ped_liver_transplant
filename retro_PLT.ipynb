{
 "cells": [
  {
   "cell_type": "code",
   "execution_count": 1,
   "id": "64a78cd4-b1d7-4c58-98aa-6c3477bbe48e",
   "metadata": {},
   "outputs": [],
   "source": [
    "%load_ext autoreload\n",
    "%autoreload 2"
   ]
  },
  {
   "cell_type": "code",
   "execution_count": 2,
   "id": "13796815-fb02-477c-9037-e2b78cb92640",
   "metadata": {},
   "outputs": [],
   "source": [
    "import pandas as pd\n",
    "import matplotlib.pyplot as plt\n",
    "import matplotlib.pylab as pylab\n",
    "import numpy as np\n",
    "from scipy import stats\n",
    "import seaborn as sns\n",
    "from functools import reduce\n",
    "pd.options.mode.chained_assignment = None \n",
    "from statistics import mean\n",
    "from profile_generation import *\n",
    "from plotting import *\n",
    "import warnings\n",
    "warnings.simplefilter('ignore', np.RankWarning)\n",
    "from scipy.optimize import curve_fit\n",
    "import matplotlib.patches as patches\n",
    "from scipy.optimize import curve_fit\n",
    "from openpyxl import load_workbook\n",
    "import math\n",
    "from scipy.optimize import OptimizeWarning\n",
    "warnings.simplefilter(\"ignore\", OptimizeWarning)"
   ]
  },
  {
   "cell_type": "code",
   "execution_count": 3,
   "id": "f11392a7-777b-4f60-890d-0fb2cddd30a6",
   "metadata": {},
   "outputs": [
    {
     "name": "stdout",
     "output_type": "stream",
     "text": [
      "Patient #117 has insufficient/<3 predictions (1 predictions) (for linear)!\n",
      "Patient #117 has insufficient/<3 predictions (0 predictions) (for quadratic)!\n",
      "Patient #121 has insufficient unique dose-response pairs for calibration (for quad)!\n",
      "Patient #126 has insufficient unique dose-response pairs for calibration (for quad)!\n",
      "Patient #130 has insufficient/<3 predictions (2 predictions) (for linear)!\n",
      "Patient #130 has insufficient/<3 predictions (1 predictions) (for quadratic)!\n",
      "Patient #133 has insufficient/<3 predictions (0 predictions) (for linear)!\n",
      "Patient #133 has insufficient unique dose-response pairs for calibration (for quad)!\n",
      "Patients to exclude for linear methods: ['117', '130', '133']\n",
      "Patients to exclude for quad methods: ['117', '121', '126', '130', '133']\n"
     ]
    }
   ],
   "source": [
    "# Generate profiles and join dataframes\n",
    "patients_to_exclude_linear, patients_to_exclude_quad, list_of_patient_df, list_of_cal_pred_df, list_of_result_df = generate_profiles()\n",
    "df, cal_pred, result_df = join_dataframes(list_of_patient_df, list_of_cal_pred_df, list_of_result_df)\n",
    "\n",
    "# Print patients to exclude and ouput dataframes to excel as individual sheets\n",
    "print_patients_to_exclude(patients_to_exclude_linear, patients_to_exclude_quad)\n",
    "output_df_to_excel(df, cal_pred, result_df)"
   ]
  },
  {
   "cell_type": "code",
   "execution_count": null,
   "id": "b996fe88-eeda-4d36-85c3-8fc922fc6d82",
   "metadata": {},
   "outputs": [],
   "source": [
    "dat = result_df.copy()\n",
    "dat = dat[['deviation', 'method', 'patient', 'pred_day', 'response', 'prediction', 'half_life']]\n",
    "dat['half_life'] = dat['half_life'].fillna('')\n",
    "dat = dat.loc[(dat.method == 'Q_Cum_origin_dp_tau') | (dat.method == 'Q_Cum_origin_dp')]\n",
    "dat['new_method'] = \"\"\n",
    "for i in range(len(dat)):\n",
    "    dat['new_method'].iloc[i] = dat['method'].iloc[i] + '_' + str(dat['half_life'].iloc[i])\n",
    "    # print(dat['method'].iloc[i])\n",
    "plot = sns.lineplot(data=dat, x=\"patient\", y=\"deviation\", hue=\"new_method\", ci=None, legend=False)\n",
    "plot = sns.lineplot(data=dat.loc[dat.method=='Q_Cum_origin_dp_ '], x=\"patient\", y=\"deviation\", color='b', ci=None, legend=False)\n",
    "# dat.head()\n",
    "\n",
    "# sns.lineplot(data=dat.loc[dat.patient==84], x=\"pred_day\", y=\"deviation\", hue=\"method\")\n",
    "\n",
    "# dat"
   ]
  },
  {
   "cell_type": "code",
   "execution_count": null,
   "id": "b5f2120d-c413-46ef-8be9-eeed043c086c",
   "metadata": {},
   "outputs": [],
   "source": [
    "# Plotting\n",
    "# perc_days_within_target_tac(result_df)\n",
    "# perc_days_outside_target_tac(result_df)\n",
    "# median_perc_within_acc_dev(result_df)\n",
    "# can_benefit(result_df)\n",
    "# modified_TTR(result_df)\n",
    "# wrong_range(result_df)"
   ]
  },
  {
   "cell_type": "code",
   "execution_count": null,
   "id": "d73e4ecf-0dcb-4752-b2d7-7dd3d23736e9",
   "metadata": {},
   "outputs": [],
   "source": [
    "import pandas as pd\n",
    "import numpy as np\n",
    "from sklearn.preprocessing import PolynomialFeatures\n",
    "from sklearn.linear_model import LinearRegression\n",
    "import math\n",
    "\n",
    "d = {'dose': [0.5, 1, 1.5, 1.5, 3, 3], 'response': [2.4, 2.8, 3.2, 3.1, 7.9, 10]}\n",
    "df = pd.DataFrame(data=d)\n",
    "\n",
    "# Calculate weight\n",
    "j = 0\n",
    "decay_weight = []\n",
    "for i in range(len(df)):\n",
    "    decay_weight.append(math.exp(-(24*(i))/(12/np.log(2))))\n",
    "\n",
    "# Fit model\n",
    "poly_reg = PolynomialFeatures(degree=2)\n",
    "X = np.array(df.dose).reshape(-1, 1)\n",
    "y = np.array(df.response)\n",
    "X = poly_reg.fit_transform(X)\n",
    "result = LinearRegression(fit_intercept=False).fit(X, y, decay_weight)\n",
    "result.coef_\n",
    "# new = 3\n",
    "# prediction = result.predict(poly_reg.fit_transform([[new]]))[0]\n",
    "# prediction"
   ]
  },
  {
   "cell_type": "code",
   "execution_count": null,
   "id": "04c05864-125d-42c8-a46c-5bdf99af7b62",
   "metadata": {},
   "outputs": [],
   "source": [
    "np.array(3).reshape(-1, 1)"
   ]
  },
  {
   "cell_type": "code",
   "execution_count": 8,
   "id": "632ef72a-2792-4af4-8594-6d7946b1312c",
   "metadata": {},
   "outputs": [
    {
     "data": {
      "text/html": [
       "<div>\n",
       "<style scoped>\n",
       "    .dataframe tbody tr th:only-of-type {\n",
       "        vertical-align: middle;\n",
       "    }\n",
       "\n",
       "    .dataframe tbody tr th {\n",
       "        vertical-align: top;\n",
       "    }\n",
       "\n",
       "    .dataframe thead th {\n",
       "        text-align: right;\n",
       "    }\n",
       "</style>\n",
       "<table border=\"1\" class=\"dataframe\">\n",
       "  <thead>\n",
       "    <tr style=\"text-align: right;\">\n",
       "      <th></th>\n",
       "      <th>col1</th>\n",
       "      <th>col2</th>\n",
       "    </tr>\n",
       "  </thead>\n",
       "  <tbody>\n",
       "    <tr>\n",
       "      <th>2</th>\n",
       "      <td>1</td>\n",
       "      <td>2</td>\n",
       "    </tr>\n",
       "    <tr>\n",
       "      <th>0</th>\n",
       "      <td>1</td>\n",
       "      <td>2</td>\n",
       "    </tr>\n",
       "    <tr>\n",
       "      <th>1</th>\n",
       "      <td>1</td>\n",
       "      <td>2</td>\n",
       "    </tr>\n",
       "  </tbody>\n",
       "</table>\n",
       "</div>"
      ],
      "text/plain": [
       "  col1 col2\n",
       "2    1    2\n",
       "0    1    2\n",
       "1    1    2"
      ]
     },
     "execution_count": 8,
     "metadata": {},
     "output_type": "execute_result"
    }
   ],
   "source": [
    "a = pd.DataFrame(columns=['col1','col2'])\n",
    "a = a[0:0]\n",
    "a.loc[2, :] = [1, 2]\n",
    "\n",
    "b = pd.DataFrame(columns=['col1','col2'])\n",
    "b = b[0:0]\n",
    "b.loc[0, :] = [1, 2]\n",
    "b.loc[1, :] = [1, 2]\n",
    "\n",
    "pd.concat([a, b])"
   ]
  }
 ],
 "metadata": {
  "jupytext": {
   "formats": "ipynb,py:light"
  },
  "kernelspec": {
   "display_name": "Python 3 (ipykernel)",
   "language": "python",
   "name": "python3"
  },
  "language_info": {
   "codemirror_mode": {
    "name": "ipython",
    "version": 3
   },
   "file_extension": ".py",
   "mimetype": "text/x-python",
   "name": "python",
   "nbconvert_exporter": "python",
   "pygments_lexer": "ipython3",
   "version": "3.9.7"
  }
 },
 "nbformat": 4,
 "nbformat_minor": 5
}
