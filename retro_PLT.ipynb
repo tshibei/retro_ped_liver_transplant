{
 "cells": [
  {
   "cell_type": "code",
   "execution_count": 1,
   "id": "64a78cd4-b1d7-4c58-98aa-6c3477bbe48e",
   "metadata": {},
   "outputs": [],
   "source": [
    "%load_ext autoreload\n",
    "%autoreload 2\n",
    "import pandas as pd\n",
    "import matplotlib.pyplot as plt\n",
    "import matplotlib.pylab as pylab\n",
    "import numpy as np\n",
    "from scipy import stats\n",
    "import seaborn as sns\n",
    "from functools import reduce\n",
    "pd.options.mode.chained_assignment = None \n",
    "from statistics import mean\n",
    "from Profile_Generation import *\n",
    "from plotting import *\n",
    "from analysis import *\n",
    "import warnings\n",
    "warnings.simplefilter('ignore', np.RankWarning)\n",
    "from scipy.optimize import curve_fit\n",
    "import matplotlib.patches as patches\n",
    "from scipy.optimize import curve_fit\n",
    "from openpyxl import load_workbook\n",
    "import math\n",
    "from scipy.optimize import OptimizeWarning\n",
    "warnings.simplefilter(\"ignore\", OptimizeWarning)\n",
    "import timeit\n",
    "from sklearn.metrics import mean_squared_error\n",
    "from matplotlib.pyplot import cm\n",
    "from matplotlib.patches import Patch\n",
    "from scipy import stats"
   ]
  },
  {
   "cell_type": "code",
   "execution_count": null,
   "id": "7a567b06-8a39-49e9-a3a5-08460e618ee3",
   "metadata": {
    "lines_to_next_cell": 2
   },
   "outputs": [],
   "source": [
    "%%time\n",
    "# ~5mins\n",
    "\n",
    "# Execute CURATE without pop tau\n",
    "execute_CURATE()"
   ]
  },
  {
   "cell_type": "code",
   "execution_count": 2,
   "id": "755a8092-139b-4add-ba7c-6fe3ce6ef5d4",
   "metadata": {},
   "outputs": [],
   "source": [
    "result = pd.read_excel('output_dose_by_body_weight.xlsx', sheet_name='result')"
   ]
  },
  {
   "cell_type": "code",
   "execution_count": 3,
   "id": "913c3bd9-05d1-4f1a-a164-05a309502ae9",
   "metadata": {},
   "outputs": [
    {
     "data": {
      "text/plain": [
       "count    119.000000\n",
       "mean       8.941176\n",
       "std        3.026169\n",
       "min        2.800000\n",
       "25%        6.900000\n",
       "50%        9.000000\n",
       "75%       10.900000\n",
       "max       17.600000\n",
       "Name: prediction, dtype: float64"
      ]
     },
     "execution_count": 3,
     "metadata": {},
     "output_type": "execute_result"
    }
   ],
   "source": [
    "dat = result.copy()\n",
    "dat[dat.method=='L_RW_wo_origin']['prediction'].describe()"
   ]
  },
  {
   "cell_type": "code",
   "execution_count": null,
   "id": "564ed4fa-4011-43e5-a57f-b006098943b4",
   "metadata": {},
   "outputs": [],
   "source": [
    "%%time\n",
    "# Perform CV\n",
    "five_fold_cross_val_results, five_fold_cross_val_results_summary = find_pop_tau_with_CV()\n",
    "execute_CURATE_and_update_pop_tau_results('CV', five_fold_cross_val_results_summary, five_fold_cross_val_results)\n",
    "\n",
    "# Perform LOOCV\n",
    "five_fold_cross_val_results, five_fold_cross_val_results_summary = find_pop_tau_with_LOOCV()\n",
    "execute_CURATE_and_update_pop_tau_results('LOOCV', five_fold_cross_val_results_summary, five_fold_cross_val_results)"
   ]
  },
  {
   "cell_type": "code",
   "execution_count": null,
   "id": "72a9611d-2809-4363-b3df-5031352c921f",
   "metadata": {},
   "outputs": [],
   "source": [
    "# Profile Generation\n",
    "input_file = 'Retrospective Liver Transplant Data.xlsx'\n",
    "rows_to_skip = 17\n",
    "\n",
    "# Get list of patients/sheet names\n",
    "list_of_patients = get_sheet_names(input_file)\n",
    "\n",
    "# Define lists\n",
    "list_of_patient_df = []\n",
    "list_of_cal_pred_df = []\n",
    "list_of_result_df = []\n",
    "patients_to_exclude_linear = []\n",
    "patients_to_exclude_quad = []\n",
    "list_of_body_weight = []\n",
    "\n",
    "# Create list of body_weight\n",
    "for i in range(len(list_of_patients)):    \n",
    "    data = pd.read_excel('Retrospective Liver Transplant Data.xlsx', list_of_patients[i], index_col=None, usecols = \"C\", nrows=15)\n",
    "    data = data.reset_index(drop=True)\n",
    "    list_of_body_weight.append(data['Unnamed: 2'][13])\n",
    "    \n",
    "list_of_body_weight = list_of_body_weight[:12]+[8.29]+list_of_body_weight[12+1:]\n",
    "\n",
    "number_of_patients = 0\n",
    "\n",
    "for patient in list_of_patients:\n",
    "\n",
    "    # Create and clean patient dataframe        \n",
    "    df = pd.read_excel(input_file, sheet_name=patient, skiprows=rows_to_skip)\n",
    "    df = clean_data(df, patient)\n",
    "    df = keep_ideal_data(df, patient, list_of_patient_df)\n",
    "    \n",
    "    # Change to dose by body weight\n",
    "    df['dose'] = df['dose'] / list_of_body_weight[number_of_patients]\n",
    "    \n",
    "    # Counter for number of patients\n",
    "    number_of_patients = number_of_patients + 1\n",
    "    \n",
    "list_of_patient_df"
   ]
  },
  {
   "cell_type": "code",
   "execution_count": null,
   "id": "79c3f9c6-7b21-428d-822d-61bd27a3a30d",
   "metadata": {},
   "outputs": [],
   "source": [
    "\n",
    "\n",
    "list_of_body_weight"
   ]
  },
  {
   "cell_type": "code",
   "execution_count": null,
   "id": "c270f387-4aab-4001-a7b7-de0ef1b63763",
   "metadata": {
    "lines_to_next_cell": 2
   },
   "outputs": [],
   "source": [
    "file_string='all_data_including_non_ideal.xlsx'\n",
    "plot=True\n",
    "\n",
    "# Plot individual profiles\n",
    "dat = pd.read_excel(file_string, sheet_name='clean')\n",
    "\n",
    "# Create within-range column for color\n",
    "dat['within_range'] = (dat.response <= 10) & (dat.response >= 8)\n",
    "\n",
    "# Create low/med/high dose column\n",
    "dat['dose_range'] = \"\"\n",
    "for i in range(len(dat)):\n",
    "    if dat.dose[i] < 2:\n",
    "        dat.loc[i, 'dose_range'] = 'Low'\n",
    "    elif dat.dose[i] < 4:\n",
    "        dat.loc[i, 'dose_range'] = 'Medium'\n",
    "    else:\n",
    "        dat.loc[i, 'dose_range'] = 'High'\n",
    "\n",
    "# Rename columns and entries\n",
    "new_dat = dat.copy()\n",
    "new_dat = new_dat.rename(columns={'within_range':'Tacrolimus Levels'})\n",
    "new_dat['Tacrolimus Levels'] = new_dat['Tacrolimus Levels'].map({True:'Therapeutic Range', False: 'Non-therapeutic Range'})\n",
    "new_dat = new_dat.rename(columns={'dose_range':'Dose range', 'day':'Day'})\n",
    "new_dat['patient'] = new_dat['patient'].map({84:1, 114:2, 117:3, 118:4, 120:5, 121:6, 122:7,\n",
    "                                            123:8, 125:9, 126:10, 129:11, 130:12, 131:13, 132:14,\n",
    "                                            133:15, 138:16})\n",
    "\n",
    "if plot == True:\n",
    "\n",
    "    # Plot dose vs response\n",
    "    sns.set(font_scale=1.2, rc={\"figure.figsize\": (16,10), \"xtick.bottom\" : True, \"ytick.left\" : True}, style='white')\n",
    "\n",
    "    plot = plt.scatter(new_dat.dose, new_dat.response, c=new_dat.Day, cmap=sns.cubehelix_palette(as_cmap=True))\n",
    "    plt.clf()\n",
    "    cbar = plt.colorbar(plot)\n",
    "    cbar.ax.tick_params(labelsize=20) \n",
    "\n",
    "    plt.savefig('colorbar.png', dpi=500, facecolor='w', bbox_inches='tight')\n",
    "\n",
    "#     g = sns.relplot(data=new_dat, x='dose', y='response', hue='Day', col='patient', col_wrap=4, style='Dose range',\n",
    "#             height=3, aspect=1,s=80)\n",
    "\n",
    "#     # Add gray region for therapeutic range\n",
    "#     for ax in g.axes:\n",
    "#         ax.axhspan(8, 10, facecolor='grey', alpha=0.2)\n",
    "        \n",
    "#     g.set_titles('Patient {col_name}')\n",
    "#     g.set_ylabels('Tacrolimus level (ng/ml)')\n",
    "#     g.set_xlabels('Dose')\n",
    "#     g.set(yticks=np.arange(0,math.ceil(max(new_dat.response)),4),\n",
    "#         xticks=np.arange(0, max(new_dat.dose+1), step=1))\n",
    "\n",
    "#     plt.savefig('indiv_pt_profile_by_dose.png', dpi=500, facecolor='w', bbox_inches='tight')"
   ]
  },
  {
   "cell_type": "code",
   "execution_count": null,
   "id": "8cbeaa29-05a0-469e-9419-22fe999f4e1a",
   "metadata": {},
   "outputs": [],
   "source": [
    "dat = df.copy()\n",
    "# dat[(dat.Method=='RW') & (dat.Dataset=='Test')].describe()\n",
    "\n",
    "# Subset RW\n",
    "dat = dat[dat.method=='L_RW_wo_origin'].reset_index(drop=True)\n",
    "\n",
    "dat['recommended_dose'] = [7.5, 7.5, 2.5, 2.5, 4.5, 8, 5.5, 5, 5, 2, 7, 3.3]"
   ]
  }
 ],
 "metadata": {
  "jupytext": {
   "formats": "ipynb,py:light"
  },
  "kernelspec": {
   "display_name": "Python 3 (ipykernel)",
   "language": "python",
   "name": "python3"
  },
  "language_info": {
   "codemirror_mode": {
    "name": "ipython",
    "version": 3
   },
   "file_extension": ".py",
   "mimetype": "text/x-python",
   "name": "python",
   "nbconvert_exporter": "python",
   "pygments_lexer": "ipython3",
   "version": "3.9.7"
  }
 },
 "nbformat": 4,
 "nbformat_minor": 5
}
