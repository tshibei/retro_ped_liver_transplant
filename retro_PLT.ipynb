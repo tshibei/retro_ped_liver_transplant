{
 "cells": [
  {
   "cell_type": "code",
   "execution_count": 1,
   "id": "64a78cd4-b1d7-4c58-98aa-6c3477bbe48e",
   "metadata": {},
   "outputs": [],
   "source": [
    "%load_ext autoreload\n",
    "%autoreload 2"
   ]
  },
  {
   "cell_type": "code",
   "execution_count": 2,
   "id": "13796815-fb02-477c-9037-e2b78cb92640",
   "metadata": {},
   "outputs": [],
   "source": [
    "import pandas as pd\n",
    "import matplotlib.pyplot as plt\n",
    "import matplotlib.pylab as pylab\n",
    "import numpy as np\n",
    "from scipy import stats\n",
    "import seaborn as sns\n",
    "from functools import reduce\n",
    "pd.options.mode.chained_assignment = None \n",
    "from statistics import mean\n",
    "from profile_generation import *\n",
    "from plotting import *\n",
    "import warnings\n",
    "warnings.simplefilter('ignore', np.RankWarning)\n",
    "from scipy.optimize import curve_fit\n",
    "import matplotlib.patches as patches\n",
    "from scipy.optimize import curve_fit\n",
    "from openpyxl import load_workbook\n",
    "# from scipy.optimize import OptimizeWarning\n",
    "# warnings.simplefilter(\"error\", OptimizeWarning)"
   ]
  },
  {
   "cell_type": "code",
   "execution_count": 3,
   "id": "f11392a7-777b-4f60-890d-0fb2cddd30a6",
   "metadata": {},
   "outputs": [
    {
     "name": "stderr",
     "output_type": "stream",
     "text": [
      "C:\\Users\\tshibei\\Anaconda3\\lib\\site-packages\\scipy\\optimize\\minpack.py:833: OptimizeWarning: Covariance of the parameters could not be estimated\n",
      "  warnings.warn('Covariance of the parameters could not be estimated',\n"
     ]
    },
    {
     "name": "stdout",
     "output_type": "stream",
     "text": [
      "Patient #117 has insufficient/<3 predictions (1 predictions) (for linear)!\n",
      "Patient #117 has insufficient/<3 predictions (0 predictions) (for quadratic)!\n",
      "Patient #121 has insufficient unique dose-response pairs for calibration (for quad)!\n",
      "Patient #126 has insufficient unique dose-response pairs for calibration (for quad)!\n",
      "Patient #130 has insufficient/<3 predictions (2 predictions) (for linear)!\n",
      "Patient #130 has insufficient/<3 predictions (1 predictions) (for quadratic)!\n",
      "Patient #133 has insufficient/<3 predictions (0 predictions) (for linear)!\n",
      "Patient #133 has insufficient unique dose-response pairs for calibration (for quad)!\n",
      "Patients to exclude for linear methods: ['117', '130', '133']\n",
      "Patients to exclude for quad methods: ['117', '121', '126', '130', '133']\n"
     ]
    }
   ],
   "source": [
    "# Generate profiles and join dataframes\n",
    "patients_to_exclude_linear, patients_to_exclude_quad, list_of_patient_df, list_of_cal_pred_df, list_of_result_df = generate_profiles()\n",
    "df, cal_pred, result_df = join_dataframes(list_of_patient_df, list_of_cal_pred_df, list_of_result_df)\n",
    "\n",
    "# Print patients to exclude and ouput dataframes to excel as individual sheets\n",
    "print_patients_to_exclude(patients_to_exclude_linear, patients_to_exclude_quad)\n",
    "output_df_to_excel(df, cal_pred, result_df)"
   ]
  },
  {
   "cell_type": "code",
   "execution_count": 9,
   "id": "b5f2120d-c413-46ef-8be9-eeed043c086c",
   "metadata": {},
   "outputs": [],
   "source": [
    "# Plotting\n",
    "# perc_days_within_target_tac(result_df)\n",
    "# perc_days_outside_target_tac(result_df)\n",
    "# median_perc_within_acc_dev(result_df)\n",
    "# can_benefit(result_df)\n",
    "# modified_TTR(result_df)\n",
    "# wrong_range(result_df)"
   ]
  },
  {
   "cell_type": "code",
   "execution_count": 65,
   "id": "d73e4ecf-0dcb-4752-b2d7-7dd3d23736e9",
   "metadata": {},
   "outputs": [
    {
     "data": {
      "text/plain": [
       "7.97144745538665"
      ]
     },
     "execution_count": 65,
     "metadata": {},
     "output_type": "execute_result"
    }
   ],
   "source": [
    "import pandas as pd\n",
    "import numpy as np\n",
    "from sklearn.preprocessing import PolynomialFeatures\n",
    "from sklearn.linear_model import LinearRegression\n",
    "import math\n",
    "\n",
    "d = {'dose': [0.5, 1, 1.5, 1.5, 3, 3], 'response': [2.4, 2.8, 3.2, 3.1, 7.9, 10]}\n",
    "df = pd.DataFrame(data=d)\n",
    "\n",
    "# Calculate weight\n",
    "j = 0\n",
    "decay_weight = []\n",
    "for i in range(len(df)):\n",
    "    decay_weight.append(math.exp(-(24*(i))/(12/np.log(2))))\n",
    "\n",
    "# Fit model\n",
    "poly_reg = PolynomialFeatures(degree=2)\n",
    "X = np.array(df.dose).reshape(-1, 1)\n",
    "y = np.array(df.response)\n",
    "X = poly_reg.fit_transform(X)\n",
    "result = LinearRegression(fit_intercept=False).fit(X, y, decay_weight)\n",
    "new = np.array(3).reshape(-1, 1)\n",
    "prediction = result.predict(poly_reg.fit_transform(new))[0]\n",
    "prediction"
   ]
  },
  {
   "cell_type": "code",
   "execution_count": 21,
   "id": "4b7454a1-6d33-455c-ace9-e1217c825954",
   "metadata": {},
   "outputs": [
    {
     "data": {
      "text/html": [
       "<div>\n",
       "<style scoped>\n",
       "    .dataframe tbody tr th:only-of-type {\n",
       "        vertical-align: middle;\n",
       "    }\n",
       "\n",
       "    .dataframe tbody tr th {\n",
       "        vertical-align: top;\n",
       "    }\n",
       "\n",
       "    .dataframe thead th {\n",
       "        text-align: right;\n",
       "    }\n",
       "</style>\n",
       "<table border=\"1\" class=\"dataframe\">\n",
       "  <thead>\n",
       "    <tr style=\"text-align: right;\">\n",
       "      <th></th>\n",
       "      <th>col1</th>\n",
       "      <th>col2</th>\n",
       "      <th>col3</th>\n",
       "    </tr>\n",
       "  </thead>\n",
       "  <tbody>\n",
       "    <tr>\n",
       "      <th>0</th>\n",
       "      <td>1</td>\n",
       "      <td>4</td>\n",
       "      <td>NaN</td>\n",
       "    </tr>\n",
       "    <tr>\n",
       "      <th>1</th>\n",
       "      <td>2</td>\n",
       "      <td>5</td>\n",
       "      <td>NaN</td>\n",
       "    </tr>\n",
       "    <tr>\n",
       "      <th>2</th>\n",
       "      <td>3</td>\n",
       "      <td>6</td>\n",
       "      <td>NaN</td>\n",
       "    </tr>\n",
       "    <tr>\n",
       "      <th>0</th>\n",
       "      <td>1</td>\n",
       "      <td>4</td>\n",
       "      <td>NaN</td>\n",
       "    </tr>\n",
       "    <tr>\n",
       "      <th>1</th>\n",
       "      <td>2</td>\n",
       "      <td>5</td>\n",
       "      <td>NaN</td>\n",
       "    </tr>\n",
       "    <tr>\n",
       "      <th>2</th>\n",
       "      <td>3</td>\n",
       "      <td>7</td>\n",
       "      <td>NaN</td>\n",
       "    </tr>\n",
       "  </tbody>\n",
       "</table>\n",
       "</div>"
      ],
      "text/plain": [
       "   col1  col2  col3\n",
       "0     1     4   NaN\n",
       "1     2     5   NaN\n",
       "2     3     6   NaN\n",
       "0     1     4   NaN\n",
       "1     2     5   NaN\n",
       "2     3     7   NaN"
      ]
     },
     "execution_count": 21,
     "metadata": {},
     "output_type": "execute_result"
    }
   ],
   "source": [
    "d = {'col1': [1, 2, 3], 'col2': [4, 5, 6], 'col3': np.nan}\n",
    "df_1 = pd.DataFrame(data=d)\n",
    "\n",
    "d = {'col1': [1, 2, 3], 'col2': [4, 5, 7], 'col3': np.nan}\n",
    "df_2 = pd.DataFrame(data=d)\n",
    "\n",
    "pd.concat([df_1, df_2])\n",
    "# df['col3'] = \"\"\n",
    "# df\n"
   ]
  }
 ],
 "metadata": {
  "jupytext": {
   "formats": "ipynb,py:light"
  },
  "kernelspec": {
   "display_name": "Python 3 (ipykernel)",
   "language": "python",
   "name": "python3"
  },
  "language_info": {
   "codemirror_mode": {
    "name": "ipython",
    "version": 3
   },
   "file_extension": ".py",
   "mimetype": "text/x-python",
   "name": "python",
   "nbconvert_exporter": "python",
   "pygments_lexer": "ipython3",
   "version": "3.9.7"
  }
 },
 "nbformat": 4,
 "nbformat_minor": 5
}
