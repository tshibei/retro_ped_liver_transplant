{
 "cells": [
  {
   "cell_type": "code",
   "execution_count": 6,
   "id": "64a78cd4-b1d7-4c58-98aa-6c3477bbe48e",
   "metadata": {},
   "outputs": [
    {
     "name": "stdout",
     "output_type": "stream",
     "text": [
      "The autoreload extension is already loaded. To reload it, use:\n",
      "  %reload_ext autoreload\n"
     ]
    }
   ],
   "source": [
    "%load_ext autoreload\n",
    "%autoreload 2\n",
    "import pandas as pd\n",
    "import matplotlib.pyplot as plt\n",
    "import matplotlib.pylab as pylab\n",
    "import numpy as np\n",
    "from scipy import stats\n",
    "import seaborn as sns\n",
    "from functools import reduce\n",
    "pd.options.mode.chained_assignment = None \n",
    "from statistics import mean\n",
    "from Profile_Generation import *\n",
    "from plotting import *\n",
    "from analysis import *\n",
    "import warnings\n",
    "warnings.simplefilter('ignore', np.RankWarning)\n",
    "from scipy.optimize import curve_fit\n",
    "import matplotlib.patches as patches\n",
    "from scipy.optimize import curve_fit\n",
    "from openpyxl import load_workbook\n",
    "import math\n",
    "from scipy.optimize import OptimizeWarning\n",
    "warnings.simplefilter(\"ignore\", OptimizeWarning)\n",
    "import timeit\n",
    "from sklearn.metrics import mean_squared_error\n",
    "from matplotlib.pyplot import cm\n",
    "from matplotlib.patches import Patch"
   ]
  },
  {
   "cell_type": "code",
   "execution_count": null,
   "id": "7a567b06-8a39-49e9-a3a5-08460e618ee3",
   "metadata": {
    "lines_to_next_cell": 2
   },
   "outputs": [],
   "source": [
    "%%time\n",
    "# ~18mins\n",
    "\n",
    "# Execute CURATE without pop tau\n",
    "execute_CURATE()"
   ]
  },
  {
   "cell_type": "code",
   "execution_count": null,
   "id": "564ed4fa-4011-43e5-a57f-b006098943b4",
   "metadata": {},
   "outputs": [],
   "source": [
    "%%time\n",
    "# Perform CV\n",
    "five_fold_cross_val_results, five_fold_cross_val_results_summary = find_pop_tau_with_CV()\n",
    "execute_CURATE_and_update_pop_tau_results('CV', five_fold_cross_val_results_summary, five_fold_cross_val_results)\n",
    "\n",
    "# Perform LOOCV\n",
    "five_fold_cross_val_results, five_fold_cross_val_results_summary = find_pop_tau_with_LOOCV()\n",
    "execute_CURATE_and_update_pop_tau_results('LOOCV', five_fold_cross_val_results_summary, five_fold_cross_val_results)"
   ]
  }
 ],
 "metadata": {
  "jupytext": {
   "formats": "ipynb,py:light"
  },
  "kernelspec": {
   "display_name": "Python 3 (ipykernel)",
   "language": "python",
   "name": "python3"
  },
  "language_info": {
   "codemirror_mode": {
    "name": "ipython",
    "version": 3
   },
   "file_extension": ".py",
   "mimetype": "text/x-python",
   "name": "python",
   "nbconvert_exporter": "python",
   "pygments_lexer": "ipython3",
   "version": "3.9.7"
  }
 },
 "nbformat": 4,
 "nbformat_minor": 5
}
