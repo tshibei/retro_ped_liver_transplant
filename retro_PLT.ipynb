{
 "cells": [
  {
   "cell_type": "code",
   "execution_count": 1,
   "id": "64a78cd4-b1d7-4c58-98aa-6c3477bbe48e",
   "metadata": {},
   "outputs": [],
   "source": [
    "%load_ext autoreload\n",
    "%autoreload 2"
   ]
  },
  {
   "cell_type": "code",
   "execution_count": 6,
   "id": "13796815-fb02-477c-9037-e2b78cb92640",
   "metadata": {},
   "outputs": [],
   "source": [
    "import pandas as pd\n",
    "import matplotlib.pyplot as plt\n",
    "import matplotlib.pylab as pylab\n",
    "import numpy as np\n",
    "from scipy import stats\n",
    "import seaborn as sns\n",
    "from functools import reduce\n",
    "pd.options.mode.chained_assignment = None \n",
    "from statistics import mean\n",
    "from profile_generation import *\n",
    "import warnings\n",
    "warnings.simplefilter('ignore', np.RankWarning)\n",
    "from scipy.optimize import curve_fit\n",
    "import matplotlib.patches as patches\n",
    "from scipy.optimize import curve_fit\n",
    "from openpyxl import load_workbook"
   ]
  },
  {
   "cell_type": "code",
   "execution_count": 11,
   "id": "00221316-9a49-4bdc-b6f6-62633fe6a434",
   "metadata": {
    "lines_to_next_cell": 2
   },
   "outputs": [],
   "source": [
    "%%capture cap --no-stderr\n",
    "\n",
    "input_file = 'Retrospective Liver Transplant Data.xlsx'\n",
    "rows_to_skip = 17\n",
    "\n",
    "# Get list of patients/sheet names\n",
    "list_of_patients = get_sheet_names(input_file)\n",
    "\n",
    "# Define lists\n",
    "list_of_patient_df = []\n",
    "list_of_cal_pred_df = []\n",
    "list_of_result_df = []\n",
    "patients_to_exclude_linear = []\n",
    "patients_to_exclude_quad = []\n",
    "\n",
    "for patient in list_of_patients:\n",
    "    \n",
    "    # Create and clean patient dataframe        \n",
    "    df = pd.read_excel(input_file, sheet_name=patient, skiprows=rows_to_skip)\n",
    "    df = clean_data(df, patient)\n",
    "    df = keep_ideal_data(df, patient, list_of_patient_df)\n",
    "        \n",
    "    # Select data for calibration and efficacy-driven dosing\n",
    "    cal_pred_linear, patients_to_exclude_linear = cal_pred_data(df, patient, patients_to_exclude_linear, 1)\n",
    "    cal_pred_quad, patients_to_exclude_quad = cal_pred_data(df, patient, patients_to_exclude_quad, 2)\n",
    "    \n",
    "    # Keep patients with sufficient dose-response pairs and predictions for each method\n",
    "    cal_pred, list_of_cal_pred_df = keep_target_patients(patient, patients_to_exclude_linear, patients_to_exclude_quad, \n",
    "                                                     cal_pred_linear, cal_pred_quad, list_of_cal_pred_df)   \n",
    "    \n",
    "    # Apply methods\n",
    "    list_of_result_df = apply_methods(cal_pred, patient, patients_to_exclude_linear, patients_to_exclude_quad,\n",
    "              cal_pred_linear, cal_pred_quad, list_of_result_df)\n",
    "\n",
    "# Print patients to exclude        \n",
    "patients_to_exclude_linear = sorted(set(patients_to_exclude_linear))\n",
    "patients_to_exclude_quad = sorted(set(patients_to_exclude_quad))\n",
    "print(f\"Patients to exclude for linear methods: {patients_to_exclude_linear}\")\n",
    "print(f\"Patients to exclude for quad methods: {patients_to_exclude_quad}\")\n",
    "\n",
    "# Join dataframes from individual patients\n",
    "df = pd.concat(list_of_patient_df)\n",
    "df.patient = df.patient.apply(int)\n",
    "df.reset_index(inplace=True, drop=True)\n",
    "cal_pred = pd.concat(list_of_cal_pred_df)\n",
    "cal_pred.patient = cal_pred.patient.apply(int)\n",
    "result_df = pd.concat(list_of_result_df)\n",
    "result_df = format_result_df(cal_pred, result_df)\n",
    "\n",
    "# Export output and dataframes\n",
    "with open('output.txt', 'w') as f:\n",
    "    f.write(cap.stdout)\n",
    "    \n",
    "with pd.ExcelWriter('output.xlsx') as writer:\n",
    "    df.to_excel(writer, sheet_name='clean', index=False)\n",
    "    cal_pred.to_excel(writer, sheet_name='calibration_and_efficacy_driven', index=False)\n",
    "    result_df.to_excel(writer, sheet_name='result', index=False)"
   ]
  }
 ],
 "metadata": {
  "jupytext": {
   "formats": "ipynb,py:light"
  },
  "kernelspec": {
   "display_name": "Python 3 (ipykernel)",
   "language": "python",
   "name": "python3"
  },
  "language_info": {
   "codemirror_mode": {
    "name": "ipython",
    "version": 3
   },
   "file_extension": ".py",
   "mimetype": "text/x-python",
   "name": "python",
   "nbconvert_exporter": "python",
   "pygments_lexer": "ipython3",
   "version": "3.9.7"
  }
 },
 "nbformat": 4,
 "nbformat_minor": 5
}
