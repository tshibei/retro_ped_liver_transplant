{
 "cells": [
  {
   "cell_type": "code",
   "execution_count": 2,
   "id": "7a567b06-8a39-49e9-a3a5-08460e618ee3",
   "metadata": {},
   "outputs": [
    {
     "name": "stdout",
     "output_type": "stream",
     "text": [
      "Patient #117 has insufficient/<3 predictions (1 predictions) (for linear)!\n",
      "Patient #117 has insufficient/<3 predictions (0 predictions) (for quadratic)!\n",
      "Patient #121 has insufficient unique dose-response pairs for calibration (for quad)!\n",
      "Patient #126 has insufficient unique dose-response pairs for calibration (for quad)!\n",
      "Patient #130 has insufficient/<3 predictions (2 predictions) (for linear)!\n",
      "Patient #130 has insufficient/<3 predictions (1 predictions) (for quadratic)!\n",
      "Patient #133 has insufficient/<3 predictions (0 predictions) (for linear)!\n",
      "Patient #133 has insufficient unique dose-response pairs for calibration (for quad)!\n",
      "Patients to exclude for linear methods: ['117', '130', '133']\n",
      "Patients to exclude for quad methods: ['117', '121', '126', '130', '133']\n",
      "Wall time: 3min 53s\n"
     ]
    }
   ],
   "source": [
    "%%time\n",
    "from profile_generation import *\n",
    "\n",
    "execute_CURATE()\n",
    "\n",
    "# Uncomment to run pop tau\n",
    "# # Perform CV\n",
    "# five_fold_cross_val_results, five_fold_cross_val_results_summary = find_pop_tau_with_CV()\n",
    "# execute_CURATE_and_update_pop_tau_results('CV', five_fold_cross_val_results_summary, five_fold_cross_val_results)\n",
    "\n",
    "# # Perform LOOCV\n",
    "# five_fold_cross_val_results, five_fold_cross_val_results_summary = find_pop_tau_with_LOOCV()\n",
    "# execute_CURATE_and_update_pop_tau_results('LOOCV', five_fold_cross_val_results_summary, five_fold_cross_val_results)"
   ]
  },
  {
   "cell_type": "code",
   "execution_count": null,
   "id": "64a78cd4-b1d7-4c58-98aa-6c3477bbe48e",
   "metadata": {},
   "outputs": [],
   "source": [
    "%load_ext autoreload\n",
    "%autoreload 2\n",
    "import pandas as pd\n",
    "import matplotlib.pyplot as plt\n",
    "import matplotlib.pylab as pylab\n",
    "import numpy as np\n",
    "from scipy import stats\n",
    "import seaborn as sns\n",
    "from functools import reduce\n",
    "pd.options.mode.chained_assignment = None \n",
    "from statistics import mean\n",
    "from profile_generation import *\n",
    "from plotting import *\n",
    "import warnings\n",
    "warnings.simplefilter('ignore', np.RankWarning)\n",
    "from scipy.optimize import curve_fit\n",
    "import matplotlib.patches as patches\n",
    "from scipy.optimize import curve_fit\n",
    "from openpyxl import load_workbook\n",
    "import math\n",
    "from scipy.optimize import OptimizeWarning\n",
    "warnings.simplefilter(\"ignore\", OptimizeWarning)\n",
    "import timeit\n",
    "from sklearn.metrics import mean_squared_error\n",
    "from matplotlib.pyplot import cm\n",
    "from matplotlib.patches import Patch\n",
    "from scipy import stats\n",
    "from mpl_toolkits.axes_grid1.inset_locator import inset_axes\n",
    "from mpl_toolkits.axes_grid1 import make_axes_locatable\n",
    "from scipy.stats import levene\n",
    "import sys\n",
    "from scipy.stats import wilcoxon\n",
    "import statistics\n",
    "from matplotlib.patches import Patch\n",
    "from matplotlib.lines import Line2D\n",
    "from statistics import stdev"
   ]
  }
 ],
 "metadata": {
  "jupytext": {
   "formats": "ipynb,py:light"
  },
  "kernelspec": {
   "display_name": "Python 3 (ipykernel)",
   "language": "python",
   "name": "python3"
  },
  "language_info": {
   "codemirror_mode": {
    "name": "ipython",
    "version": 3
   },
   "file_extension": ".py",
   "mimetype": "text/x-python",
   "name": "python",
   "nbconvert_exporter": "python",
   "pygments_lexer": "ipython3",
   "version": "3.9.7"
  }
 },
 "nbformat": 4,
 "nbformat_minor": 5
}
