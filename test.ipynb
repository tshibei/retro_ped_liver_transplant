{
 "cells": [
  {
   "cell_type": "code",
   "execution_count": 1,
   "id": "2daeb21a-44b6-424c-b3e8-b16aa71923d6",
   "metadata": {
    "lines_to_next_cell": 2
   },
   "outputs": [],
   "source": [
    "%load_ext autoreload\n",
    "%autoreload 2\n",
    "from plotting import *\n",
    "import statistics\n",
    "import seaborn as sns\n",
    "from scipy.stats import wilcoxon\n",
    "import pandas as pd"
   ]
  },
  {
   "cell_type": "code",
   "execution_count": 8,
   "id": "71464746-8d99-4d21-a19b-a2c7b665a8ce",
   "metadata": {},
   "outputs": [],
   "source": [
    "dosing_strategy_values()"
   ]
  },
  {
   "cell_type": "code",
   "execution_count": null,
   "id": "09d02194-29b1-492e-b068-37482cad3d1f",
   "metadata": {},
   "outputs": [],
   "source": [
    "case_series_118_repeated_dosing_response_vs_dose(plot=True)"
   ]
  }
 ],
 "metadata": {
  "jupytext": {
   "formats": "ipynb,py:light"
  },
  "kernelspec": {
   "display_name": "Python 3 (ipykernel)",
   "language": "python",
   "name": "python3"
  },
  "language_info": {
   "codemirror_mode": {
    "name": "ipython",
    "version": 3
   },
   "file_extension": ".py",
   "mimetype": "text/x-python",
   "name": "python",
   "nbconvert_exporter": "python",
   "pygments_lexer": "ipython3",
   "version": "3.9.13"
  }
 },
 "nbformat": 4,
 "nbformat_minor": 5
}
